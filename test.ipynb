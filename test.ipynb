{
 "cells": [
  {
   "cell_type": "code",
   "execution_count": null,
   "metadata": {},
   "outputs": [],
   "source": [
    "print('Hello World')"
   ]
  },
  {
   "cell_type": "code",
   "execution_count": null,
   "metadata": {},
   "outputs": [],
   "source": [
    "for a in [1,2,3,4,5,6,7,8,9]:\n",
    "    print(a)"
   ]
  },
  {
   "cell_type": "code",
   "execution_count": null,
   "metadata": {},
   "outputs": [],
   "source": [
    "print(\"123\",end='')\n",
    "print(\"456\")"
   ]
  },
  {
   "cell_type": "code",
   "execution_count": 5,
   "metadata": {},
   "outputs": [
    {
     "name": "stdout",
     "output_type": "stream",
     "text": [
      "10\n"
     ]
    }
   ],
   "source": [
    "a = int(input('输入一个整数'))\n",
    "print(a)"
   ]
  },
  {
   "cell_type": "code",
   "execution_count": 7,
   "metadata": {},
   "outputs": [],
   "source": [
    "text = open('text.txt','w')\n",
    "text.write('人生苦短，我用Python')\n",
    "text.close()"
   ]
  },
  {
   "cell_type": "code",
   "execution_count": 12,
   "metadata": {},
   "outputs": [
    {
     "name": "stdout",
     "output_type": "stream",
     "text": [
      "-----自我介绍-----\n",
      "我的名字是skyia\n",
      "我的年龄是28岁\n",
      "我的座右铭是：ppap\n"
     ]
    }
   ],
   "source": [
    "name = input('请输入你的姓名：')\n",
    "age = input('请输入你的年龄：')\n",
    "zym = input('请输入你的座右铭：')\n",
    "print('-----自我介绍-----')\n",
    "print('我的名字是'+name)\n",
    "print('我的年龄是'+ age +'岁')\n",
    "print('我的座右铭是：'+zym)"
   ]
  },
  {
   "cell_type": "code",
   "execution_count": 13,
   "metadata": {},
   "outputs": [
    {
     "name": "stdout",
     "output_type": "stream",
     "text": [
      "['False', 'None', 'True', 'and', 'as', 'assert', 'async', 'await', 'break', 'class', 'continue', 'def', 'del', 'elif', 'else', 'except', 'finally', 'for', 'from', 'global', 'if', 'import', 'in', 'is', 'lambda', 'nonlocal', 'not', 'or', 'pass', 'raise', 'return', 'try', 'while', 'with', 'yield']\n"
     ]
    }
   ],
   "source": [
    "import keyword\n",
    "print(keyword.kwlist)"
   ]
  },
  {
   "cell_type": "code",
   "execution_count": 14,
   "metadata": {},
   "outputs": [
    {
     "name": "stdout",
     "output_type": "stream",
     "text": [
      "12346\n",
      "<class 'str'>\n"
     ]
    }
   ],
   "source": [
    "x = '12346'\n",
    "print(x)\n",
    "print(type(x))"
   ]
  },
  {
   "cell_type": "code",
   "execution_count": 18,
   "metadata": {},
   "outputs": [
    {
     "name": "stdout",
     "output_type": "stream",
     "text": [
      "a a\n",
      "abcde\n",
      "fghijk\n"
     ]
    }
   ],
   "source": [
    "s = 'abcdefghijk'\n",
    "print(s[0],s[-11])\n",
    "print(s[0:5])\n",
    "print(s[5:])"
   ]
  },
  {
   "cell_type": "code",
   "execution_count": 20,
   "metadata": {},
   "outputs": [
    {
     "name": "stdout",
     "output_type": "stream",
     "text": [
      "5\n",
      "10.0\n"
     ]
    }
   ],
   "source": [
    "a = 5.5\n",
    "print(int(a))\n",
    "b = 10\n",
    "print(float(b))"
   ]
  },
  {
   "cell_type": "code",
   "execution_count": 22,
   "metadata": {},
   "outputs": [
    {
     "name": "stdout",
     "output_type": "stream",
     "text": [
      "10 20\n",
      "20 10\n"
     ]
    }
   ],
   "source": [
    "\n",
    "a = 10 \n",
    "b = 20\n",
    "print(a,b)\n",
    "#b,a=a,b\n",
    "a,b=b,a\n",
    "print(a,b)"
   ]
  },
  {
   "cell_type": "code",
   "execution_count": 24,
   "metadata": {},
   "outputs": [
    {
     "name": "stdout",
     "output_type": "stream",
     "text": [
      "千位数是： 5\n",
      "百位数是： 6\n",
      "十位数是： 8\n",
      "个位数是： 4\n"
     ]
    }
   ],
   "source": [
    "a = int(input('请输入一个四位整数'))\n",
    "qian=a//1000 \n",
    "bai=(a - qian * 1000)//100\n",
    "shi=(a-qian*1000-bai*100)//10\n",
    "ge=(a-qian*1000-bai*100-shi*10)\n",
    "print('千位数是：',qian)\n",
    "print('百位数是：',bai)\n",
    "print('十位数是：',shi)\n",
    "print('个位数是：',ge)"
   ]
  },
  {
   "cell_type": "code",
   "execution_count": 25,
   "metadata": {},
   "outputs": [
    {
     "name": "stdout",
     "output_type": "stream",
     "text": [
      "8453\n",
      "8 4 5 3\n"
     ]
    }
   ],
   "source": [
    "a=int(input('输入一个四位整数'))\n",
    "ge=a%10\n",
    "shi=a%100//10\n",
    "bai=a%1000//100\n",
    "qian=a//1000\n",
    "print(a)\n",
    "print(qian,bai,shi,ge)"
   ]
  },
  {
   "cell_type": "code",
   "execution_count": 26,
   "metadata": {},
   "outputs": [
    {
     "name": "stdout",
     "output_type": "stream",
     "text": [
      "父亲身高： 178.0\n",
      "母亲身高： 165.0\n",
      "预测儿子身高： 185.22\n"
     ]
    }
   ],
   "source": [
    "fa=float(input('请输入父亲身高：'))\n",
    "ma=float(input('请输入母亲身高：'))\n",
    "son=(fa+ma)*0.54\n",
    "print('父亲身高：',fa)\n",
    "print('母亲身高：',ma)\n",
    "print('预测儿子身高：',son)"
   ]
  },
  {
   "cell_type": "code",
   "execution_count": 8,
   "metadata": {},
   "outputs": [
    {
     "name": "stdout",
     "output_type": "stream",
     "text": [
      "a<b\n"
     ]
    }
   ],
   "source": [
    "a=2\n",
    "b=3\n",
    "if a>b:\n",
    "    print('a>b')\n",
    "else:\n",
    "    print('a<b')\n"
   ]
  },
  {
   "cell_type": "code",
   "execution_count": 9,
   "metadata": {},
   "outputs": [
    {
     "name": "stdout",
     "output_type": "stream",
     "text": [
      "a>b\n"
     ]
    }
   ],
   "source": [
    "a=5\n",
    "b=3\n",
    "result='a>b' if a>b else 'a<b'\n",
    "print(result)"
   ]
  },
  {
   "cell_type": "code",
   "execution_count": 18,
   "metadata": {},
   "outputs": [
    {
     "name": "stdout",
     "output_type": "stream",
     "text": [
      "you have 2 chance\n",
      "you have 1 chance\n",
      "locked\n"
     ]
    }
   ],
   "source": [
    "i=0\n",
    "while i<3:\n",
    "    username=input('username:')\n",
    "    password=input('password')\n",
    "    if username=='skyia' and password=='123465':\n",
    "        print('logining')\n",
    "        break\n",
    "    elif i<2:\n",
    "        i+=1\n",
    "        print('you have',3-i,'chance')\n",
    "    else:\n",
    "        i+=1\n",
    "\n",
    "else:\n",
    "    print('locked')\n"
   ]
  },
  {
   "cell_type": "code",
   "execution_count": 19,
   "metadata": {},
   "outputs": [
    {
     "name": "stdout",
     "output_type": "stream",
     "text": [
      "****\n",
      "****\n",
      "****\n"
     ]
    }
   ],
   "source": [
    "i =1\n",
    "while i<4:\n",
    "    print('****')\n",
    "    i+=1"
   ]
  },
  {
   "cell_type": "code",
   "execution_count": 24,
   "metadata": {},
   "outputs": [
    {
     "name": "stdout",
     "output_type": "stream",
     "text": [
      "****\n",
      "****\n",
      "****\n"
     ]
    }
   ],
   "source": [
    "for i in range(1,4):\n",
    "    for j in range(1,5):\n",
    "        print('*',end='')\n",
    "    print()\n"
   ]
  },
  {
   "cell_type": "code",
   "execution_count": 27,
   "metadata": {},
   "outputs": [
    {
     "name": "stdout",
     "output_type": "stream",
     "text": [
      "*\n",
      "**\n",
      "***\n",
      "****\n"
     ]
    }
   ],
   "source": [
    "i=j=1\n",
    "while i<5:\n",
    "    while i>=j:\n",
    "        print('*',end='')\n",
    "        j+=1\n",
    "    print()\n",
    "    j=1\n",
    "    i+=1"
   ]
  },
  {
   "cell_type": "code",
   "execution_count": 29,
   "metadata": {},
   "outputs": [
    {
     "name": "stdout",
     "output_type": "stream",
     "text": [
      "*\n",
      "**\n",
      "***\n",
      "****\n",
      "*****\n"
     ]
    }
   ],
   "source": [
    "for i in range(1,6):\n",
    "    for j in range(1,i+1):\n",
    "        print('*',end='')\n",
    "    print()\n"
   ]
  },
  {
   "cell_type": "code",
   "execution_count": 37,
   "metadata": {},
   "outputs": [
    {
     "name": "stdout",
     "output_type": "stream",
     "text": [
      "    *\n",
      "   ***\n",
      "  *****\n",
      " *******\n",
      "*********\n"
     ]
    }
   ],
   "source": [
    "for i in range(1,6):\n",
    "    for j in range(1,6-i):\n",
    "        print(' ',end='')\n",
    "    for k in range(1,i*2):\n",
    "        print('*',end='')\n",
    "    print() \n"
   ]
  },
  {
   "cell_type": "markdown",
   "metadata": {},
   "source": [
    "1 2 3 4 5\n",
    "1 3 5 7 9 "
   ]
  },
  {
   "cell_type": "code",
   "execution_count": 52,
   "metadata": {},
   "outputs": [
    {
     "name": "stdout",
     "output_type": "stream",
     "text": [
      "  *\n",
      " ***\n",
      "*****\n",
      " ***\n",
      "  *\n"
     ]
    }
   ],
   "source": [
    "line = int(input('输入行数'))\n",
    "if line%2==1:\n",
    "    for i in range(1,line//2+2):\n",
    "        for j in range(1,line//2+2-i):\n",
    "            print(' ',end='')\n",
    "        for k in range(1,i*2):\n",
    "            print('*',end='')\n",
    "        print()\n",
    "    for i in range(1,line//2+1):\n",
    "        for j in range(1,i+1):\n",
    "            print(' ',end='')\n",
    "        for k in range(1,line-i*2+1):\n",
    "            print('*',end='')\n",
    "        print()\n",
    "\n"
   ]
  },
  {
   "cell_type": "markdown",
   "metadata": {},
   "source": [
    "6 7 8 9 \n",
    "1 2 3 4\n",
    "7 5 3 1"
   ]
  }
 ],
 "metadata": {
  "kernelspec": {
   "display_name": "Python 3.10.5 64-bit",
   "language": "python",
   "name": "python3"
  },
  "language_info": {
   "codemirror_mode": {
    "name": "ipython",
    "version": 3
   },
   "file_extension": ".py",
   "mimetype": "text/x-python",
   "name": "python",
   "nbconvert_exporter": "python",
   "pygments_lexer": "ipython3",
   "version": "3.10.5"
  },
  "orig_nbformat": 4,
  "vscode": {
   "interpreter": {
    "hash": "26de051ba29f2982a8de78e945f0abaf191376122a1563185a90213a26c5da77"
   }
  }
 },
 "nbformat": 4,
 "nbformat_minor": 2
}
