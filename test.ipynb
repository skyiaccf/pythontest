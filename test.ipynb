{
 "cells": [
  {
   "cell_type": "code",
   "execution_count": null,
   "metadata": {},
   "outputs": [],
   "source": [
    "print('Hello World')"
   ]
  },
  {
   "cell_type": "code",
   "execution_count": null,
   "metadata": {},
   "outputs": [],
   "source": [
    "for a in [1,2,3,4,5,6,7,8,9]:\n",
    "    print(a)"
   ]
  },
  {
   "cell_type": "code",
   "execution_count": null,
   "metadata": {},
   "outputs": [],
   "source": [
    "print(\"123\",end='')\n",
    "print(\"456\")"
   ]
  },
  {
   "cell_type": "code",
   "execution_count": null,
   "metadata": {},
   "outputs": [],
   "source": [
    "a = int(input('输入一个整数'))\n",
    "print(a)"
   ]
  },
  {
   "cell_type": "code",
   "execution_count": null,
   "metadata": {},
   "outputs": [],
   "source": [
    "text = open('text.txt','w')\n",
    "text.write('人生苦短，我用Python')\n",
    "text.close()"
   ]
  },
  {
   "cell_type": "code",
   "execution_count": null,
   "metadata": {},
   "outputs": [],
   "source": [
    "name = input('请输入你的姓名：')\n",
    "age = input('请输入你的年龄：')\n",
    "zym = input('请输入你的座右铭：')\n",
    "print('-----自我介绍-----')\n",
    "print('我的名字是'+name)\n",
    "print('我的年龄是'+ age +'岁')\n",
    "print('我的座右铭是：'+zym)"
   ]
  },
  {
   "cell_type": "code",
   "execution_count": null,
   "metadata": {},
   "outputs": [],
   "source": [
    "import keyword\n",
    "print(keyword.kwlist)"
   ]
  },
  {
   "cell_type": "code",
   "execution_count": null,
   "metadata": {},
   "outputs": [],
   "source": [
    "x = '12346'\n",
    "print(x)\n",
    "print(type(x))"
   ]
  },
  {
   "cell_type": "code",
   "execution_count": null,
   "metadata": {},
   "outputs": [],
   "source": [
    "s = 'abcdefghijk'\n",
    "print(s[0],s[-11])\n",
    "print(s[0:5])\n",
    "print(s[5:])"
   ]
  },
  {
   "cell_type": "code",
   "execution_count": null,
   "metadata": {},
   "outputs": [],
   "source": [
    "a = 5.5\n",
    "print(int(a))\n",
    "b = 10\n",
    "print(float(b))"
   ]
  },
  {
   "cell_type": "code",
   "execution_count": null,
   "metadata": {},
   "outputs": [],
   "source": [
    "\n",
    "a = 10 \n",
    "b = 20\n",
    "print(a,b)\n",
    "#b,a=a,b\n",
    "a,b=b,a\n",
    "print(a,b)"
   ]
  },
  {
   "cell_type": "code",
   "execution_count": null,
   "metadata": {},
   "outputs": [],
   "source": [
    "a = int(input('请输入一个四位整数'))\n",
    "qian=a//1000 \n",
    "bai=(a - qian * 1000)//100\n",
    "shi=(a-qian*1000-bai*100)//10\n",
    "ge=(a-qian*1000-bai*100-shi*10)\n",
    "print('千位数是：',qian)\n",
    "print('百位数是：',bai)\n",
    "print('十位数是：',shi)\n",
    "print('个位数是：',ge)"
   ]
  },
  {
   "cell_type": "code",
   "execution_count": null,
   "metadata": {},
   "outputs": [],
   "source": [
    "a=int(input('输入一个四位整数'))\n",
    "ge=a%10\n",
    "shi=a%100//10\n",
    "bai=a%1000//100\n",
    "qian=a//1000\n",
    "print(a)\n",
    "print(qian,bai,shi,ge)"
   ]
  },
  {
   "cell_type": "code",
   "execution_count": null,
   "metadata": {},
   "outputs": [],
   "source": [
    "fa=float(input('请输入父亲身高：'))\n",
    "ma=float(input('请输入母亲身高：'))\n",
    "son=(fa+ma)*0.54\n",
    "print('父亲身高：',fa)\n",
    "print('母亲身高：',ma)\n",
    "print('预测儿子身高：',son)"
   ]
  },
  {
   "cell_type": "code",
   "execution_count": null,
   "metadata": {},
   "outputs": [],
   "source": [
    "a=2\n",
    "b=3\n",
    "if a>b:\n",
    "    print('a>b')\n",
    "else:\n",
    "    print('a<b')\n"
   ]
  },
  {
   "cell_type": "code",
   "execution_count": null,
   "metadata": {},
   "outputs": [],
   "source": [
    "a=5\n",
    "b=3\n",
    "result='a>b' if a>b else 'a<b'\n",
    "print(result)"
   ]
  },
  {
   "cell_type": "code",
   "execution_count": null,
   "metadata": {},
   "outputs": [],
   "source": [
    "i=0\n",
    "while i<3:\n",
    "    username=input('username:')\n",
    "    password=input('password')\n",
    "    if username=='skyia' and password=='123465':\n",
    "        print('logining')\n",
    "        break\n",
    "    elif i<2:\n",
    "        i+=1\n",
    "        print('you have',3-i,'chance')\n",
    "    else:\n",
    "        i+=1\n",
    "else:\n",
    "    print('locked')\n"
   ]
  },
  {
   "cell_type": "code",
   "execution_count": null,
   "metadata": {},
   "outputs": [],
   "source": [
    "i =1\n",
    "while i<4:\n",
    "    print('****')\n",
    "    i+=1"
   ]
  },
  {
   "cell_type": "code",
   "execution_count": null,
   "metadata": {},
   "outputs": [],
   "source": [
    "for i in range(1,4):\n",
    "    for j in range(1,5):\n",
    "        print('*',end='')\n",
    "    print()\n"
   ]
  },
  {
   "cell_type": "code",
   "execution_count": null,
   "metadata": {},
   "outputs": [],
   "source": [
    "i=j=1\n",
    "while i<5:\n",
    "    while i>=j:\n",
    "        print('*',end='')\n",
    "        j+=1\n",
    "    print()\n",
    "    j=1\n",
    "    i+=1"
   ]
  },
  {
   "cell_type": "code",
   "execution_count": null,
   "metadata": {},
   "outputs": [],
   "source": [
    "for i in range(1,6):\n",
    "    for j in range(1,i+1):\n",
    "        print('*',end='')\n",
    "    print()\n"
   ]
  },
  {
   "cell_type": "code",
   "execution_count": null,
   "metadata": {},
   "outputs": [],
   "source": [
    "for i in range(1,6):\n",
    "    for j in range(1,6-i):\n",
    "        print(' ',end='')\n",
    "    for k in range(1,i*2):\n",
    "        print('*',end='')\n",
    "    print() \n"
   ]
  },
  {
   "cell_type": "markdown",
   "metadata": {},
   "source": [
    "1 2 3 4 5\n",
    "1 3 5 7 9 "
   ]
  },
  {
   "cell_type": "code",
   "execution_count": null,
   "metadata": {},
   "outputs": [],
   "source": [
    "line = int(input('输入行数'))\n",
    "while line%2==0:\n",
    "    line = int(input('请输入行数'))\n",
    "shang=line//2+1\n",
    "xia=line//2\n",
    "for i in range(1,shang+1):\n",
    "    for j in range(1,shang+1-i):\n",
    "        print(' ',end='')\n",
    "    for k in range(1,i*2):\n",
    "        if k==1 or k==i*2-1:\n",
    "            print('*',end='')\n",
    "        else:\n",
    "            print(' ',end='')\n",
    "    print()\n",
    "for i in range(1,xia+1):\n",
    "    for j in range(1,i+1):\n",
    "        print(' ',end='')\n",
    "    for k in range(1,line-i*2+1):\n",
    "        if k==1 or k==line-i*2:\n",
    "            print('*',end='')\n",
    "        else:\n",
    "            print(' ',end='')\n",
    "    print()\n",
    "\n"
   ]
  },
  {
   "cell_type": "markdown",
   "metadata": {},
   "source": [
    "6 7 8 9  \n",
    "1 2 3 4  \n",
    "7 5 3 1 "
   ]
  },
  {
   "cell_type": "code",
   "execution_count": null,
   "metadata": {},
   "outputs": [],
   "source": [
    "i = 1\n",
    "s = 0\n",
    "while s < 20:\n",
    "    s = s + i\n",
    "    i += 1\n",
    "print(s,i)"
   ]
  },
  {
   "cell_type": "code",
   "execution_count": null,
   "metadata": {},
   "outputs": [],
   "source": [
    "for i in range(1,11):\n",
    "    print(i)\n",
    "    if i == 5:\n",
    "        break\n",
    "    print(i)"
   ]
  },
  {
   "cell_type": "code",
   "execution_count": null,
   "metadata": {},
   "outputs": [],
   "source": [
    "for i in range(1,11):\n",
    "    print(i)\n",
    "    if i == 5:\n",
    "        continue\n",
    "    print(i)"
   ]
  },
  {
   "cell_type": "code",
   "execution_count": null,
   "metadata": {},
   "outputs": [],
   "source": [
    "i = 1\n",
    "s = 0\n",
    "while i < 100:\n",
    "    if i % 2 == 0:\n",
    "        s += i\n",
    "    i += 1\n",
    "print(s)"
   ]
  },
  {
   "cell_type": "code",
   "execution_count": null,
   "metadata": {},
   "outputs": [],
   "source": [
    "for i in 'abcde':\n",
    "    for j in range(2):\n",
    "        print(i,end='')\n",
    "        if i == 'd':\n",
    "            continue\n",
    "    "
   ]
  },
  {
   "cell_type": "code",
   "execution_count": 7,
   "metadata": {},
   "outputs": [
    {
     "name": "stdout",
     "output_type": "stream",
     "text": [
      "2100 不是闰年\n"
     ]
    }
   ],
   "source": [
    "year=int(input('请输入一个年份：'))\n",
    "if year%4==0:\n",
    "    if year%100==0:\n",
    "        if year%400==0:\n",
    "            print(year,'是闰年')\n",
    "        else:\n",
    "            print(year,'不是闰年')\n",
    "    else: \n",
    "        print(year,'是闰年')\n",
    "else:\n",
    "    print(year,'不是闰年')"
   ]
  },
  {
   "cell_type": "code",
   "execution_count": 12,
   "metadata": {},
   "outputs": [
    {
     "name": "stdout",
     "output_type": "stream",
     "text": [
      "欢迎使用10086查询功能\n",
      "1.查询当前余额\n",
      "2.查询当前剩余流量\n",
      "3.查询当前剩余通话时长\n",
      "0.退出系统\n",
      "当前剩余通话时间为100分钟\n",
      "欢迎使用10086查询功能\n",
      "1.查询当前余额\n",
      "2.查询当前剩余流量\n",
      "3.查询当前剩余通话时长\n",
      "0.退出系统\n",
      "程序退出，谢谢使用\n"
     ]
    }
   ],
   "source": [
    "\n",
    "while True: \n",
    "    print('欢迎使用10086查询功能')\n",
    "    print('1.查询当前余额')\n",
    "    print('2.查询当前剩余流量')\n",
    "    print('3.查询当前剩余通话时长')\n",
    "    print('0.退出系统')\n",
    "    a=input('请输入您要执行的操作：')\n",
    "    if a=='1':\n",
    "        print('当前余额为23.3元')\n",
    "    elif a=='2':\n",
    "        print('当前剩余流量为16.5GB')\n",
    "    elif a=='3':\n",
    "        print('当前剩余通话时间为100分钟')\n",
    "    elif a=='0':\n",
    "        print('程序退出，谢谢使用')\n",
    "        break\n",
    "    else:\n",
    "        input('对不起，您输入的操作有误，请重新输入：')"
   ]
  },
  {
   "cell_type": "code",
   "execution_count": 20,
   "metadata": {},
   "outputs": [
    {
     "name": "stdout",
     "output_type": "stream",
     "text": [
      "1 * 1 = 1  \n",
      "1 * 2 = 2  2 * 2 = 4  \n",
      "1 * 3 = 3  2 * 3 = 6  3 * 3 = 9  \n",
      "1 * 4 = 4  2 * 4 = 8  3 * 4 = 12  4 * 4 = 16  \n",
      "1 * 5 = 5  2 * 5 = 10  3 * 5 = 15  4 * 5 = 20  5 * 5 = 25  \n",
      "1 * 6 = 6  2 * 6 = 12  3 * 6 = 18  4 * 6 = 24  5 * 6 = 30  6 * 6 = 36  \n",
      "1 * 7 = 7  2 * 7 = 14  3 * 7 = 21  4 * 7 = 28  5 * 7 = 35  6 * 7 = 42  7 * 7 = 49  \n",
      "1 * 8 = 8  2 * 8 = 16  3 * 8 = 24  4 * 8 = 32  5 * 8 = 40  6 * 8 = 48  7 * 8 = 56  8 * 8 = 64  \n",
      "1 * 9 = 9  2 * 9 = 18  3 * 9 = 27  4 * 9 = 36  5 * 9 = 45  6 * 9 = 54  7 * 9 = 63  8 * 9 = 72  9 * 9 = 81  \n"
     ]
    }
   ],
   "source": [
    "for i in range(1,10):\n",
    "    for j in range(1,i+1):\n",
    "        print(j,'*',i,'=',j*i,end='  ')\n",
    "    print()\n",
    "    i+=1"
   ]
  },
  {
   "cell_type": "code",
   "execution_count": 24,
   "metadata": {},
   "outputs": [
    {
     "name": "stdout",
     "output_type": "stream",
     "text": [
      "大了\n",
      "大了\n",
      "大了\n",
      "小了\n",
      "小了\n",
      "小了\n",
      "小了\n",
      "小了\n",
      "小了\n",
      "猜对了！\n",
      "猜测次数为： 10\n"
     ]
    }
   ],
   "source": [
    "import random\n",
    "rand=random.randint(1,100)\n",
    "count=1\n",
    "num=int(input('请输入一个1-100之间的整数'))\n",
    "while num!=rand:\n",
    "    if num<rand:\n",
    "        print('小了')\n",
    "    else:\n",
    "        print('大了')\n",
    "    count+=1\n",
    "    num=int(input('请输入一个1-100之间的整数'))\n",
    "else:\n",
    "    print('猜对了！\\n猜测次数为：',count)"
   ]
  },
  {
   "cell_type": "code",
   "execution_count": 12,
   "metadata": {},
   "outputs": [
    {
     "name": "stdout",
     "output_type": "stream",
     "text": [
      "0 a\n",
      "1 b\n",
      "2 c\n",
      "3 d\n",
      "4 e\n",
      "5 f\n",
      "6 g\n",
      "7 h\n",
      "8 i\n",
      "9 j\n",
      "acegi\n",
      "4\n",
      "1\n",
      "j\n",
      "a\n"
     ]
    }
   ],
   "source": [
    "s='abcdefghij'\n",
    "for i in range(0,len(s)):\n",
    "    print(i,s[i])\n",
    "s1=s[0:10:2]\n",
    "print(s1)\n",
    "print(s.index('e'))\n",
    "print(s.count('e'))\n",
    "print(max(s))\n",
    "print(min(s))"
   ]
  },
  {
   "cell_type": "code",
   "execution_count": 19,
   "metadata": {},
   "outputs": [
    {
     "name": "stdout",
     "output_type": "stream",
     "text": [
      "abc\n",
      "def\n",
      "ghi\n",
      "jkl\n",
      "mno\n",
      "pqrs\n",
      "tuvw\n",
      "xyz\n",
      "0 --- abc\n",
      "1 --- def\n",
      "2 --- ghi\n",
      "3 --- jkl\n",
      "4 --- mno\n",
      "5 --- pqrs\n",
      "6 --- tuvw\n",
      "7 --- xyz\n",
      "10 abc\n",
      "11 def\n",
      "12 ghi\n",
      "13 jkl\n",
      "14 mno\n",
      "15 pqrs\n",
      "16 tuvw\n",
      "17 xyz\n"
     ]
    }
   ],
   "source": [
    "lst=['abc','def','ghi','jkl','mno','pqrs','tuvw','xyz']\n",
    "for item in lst:\n",
    "    print(item)\n",
    "for i in range(0,len(lst)):\n",
    "    print(i,'---',lst[i])\n",
    "for index,key in enumerate(lst,10):\n",
    "    print(index,key)"
   ]
  },
  {
   "cell_type": "code",
   "execution_count": 30,
   "metadata": {},
   "outputs": [
    {
     "name": "stdout",
     "output_type": "stream",
     "text": [
      "['abc', 'def', 'ghi', 'jkl', 'mno', 'pqrs', 'tuvw', 'xyz'] 2100652356992\n",
      "['abc', 'def', 'ghi', 'jkl', 'mno', 'pqrs', 'tuvw', 'xyz', 233] 2100652356992\n",
      "['abc', 0, 'def', 'ghi', 'jkl', 'mno', 'pqrs', 'tuvw', 'xyz', 233] 2100652356992\n",
      "['abc', 'def', 'ghi', 'jkl', 'mno', 'pqrs', 'tuvw', 'xyz', 233] 2100652356992\n",
      "['abc', 'def', 'ghi', 'jkl', 'mno', 'pqrs', 'tuvw', 'xyz'] 2100652356992\n",
      "['abc', 'def', 'ghi', 'jkl', 'mno', 'pqrs', 'tuvw', 'xyz'] 2100652358336\n",
      "['xyz', 'tuvw', 'pqrs', 'mno', 'jkl', 'ghi', 'def', 'abc'] 2100652358336\n"
     ]
    }
   ],
   "source": [
    "lst=['abc','def','ghi','jkl','mno','pqrs','tuvw','xyz']\n",
    "print(lst,id(lst))\n",
    "lst.append(233)\n",
    "print(lst,id(lst))\n",
    "lst.insert(1,000)\n",
    "print(lst,id(lst))\n",
    "lst.remove(0)\n",
    "print(lst,id(lst))\n",
    "lst.pop(8)\n",
    "print(lst,id(lst))\n",
    "lst2=lst.copy()\n",
    "print(lst2,id(lst2))\n",
    "lst2.reverse()\n",
    "print(lst2,id(lst2))"
   ]
  },
  {
   "cell_type": "code",
   "execution_count": 48,
   "metadata": {},
   "outputs": [
    {
     "name": "stdout",
     "output_type": "stream",
     "text": [
      "[80, 88, 69, 57, 20, 37, 83, 76, 34, 11]\n"
     ]
    }
   ],
   "source": [
    "import random\n",
    "lst=[random.randint(0,100) for i in range(0,10)]\n",
    "print(lst)\n"
   ]
  },
  {
   "cell_type": "code",
   "execution_count": 37,
   "metadata": {},
   "outputs": [
    {
     "name": "stdout",
     "output_type": "stream",
     "text": [
      "[59, 18, 62, 40, 25, 9, 8, 37, 21]\n",
      "[8, 9, 18, 21, 25, 37, 40, 59, 62]\n",
      "[62, 59, 40, 37, 25, 21, 18, 9, 8]\n"
     ]
    }
   ],
   "source": [
    "lst=[59,18,62,40,25,9,8,37,21]\n",
    "print(lst)\n",
    "lst.sort()\n",
    "print(lst)\n",
    "lst.sort(reverse=True)\n",
    "print(lst)"
   ]
  },
  {
   "cell_type": "code",
   "execution_count": 57,
   "metadata": {},
   "outputs": [
    {
     "name": "stdout",
     "output_type": "stream",
     "text": [
      "['abc', 'Def', 'ghi', 'Jkl', 'mno', 'Pqrs', 'tuvw', 'Xyz']\n",
      "['Xyz', 'tuvw', 'Pqrs', 'mno', 'Jkl', 'ghi', 'Def', 'abc']\n",
      "['Xyz', 'tuvw', 'Pqrs', 'mno', 'Jkl', 'ghi', 'Def', 'abc']\n"
     ]
    }
   ],
   "source": [
    "lst=['abc','Def','ghi','Jkl','mno','Pqrs','tuvw','Xyz']\n",
    "lst2=sorted(lst,key=str.lower,reverse=True)\n",
    "print(lst)\n",
    "lst.reverse()\n",
    "print(lst)\n",
    "print(lst2)"
   ]
  },
  {
   "cell_type": "code",
   "execution_count": 45,
   "metadata": {},
   "outputs": [
    {
     "name": "stdout",
     "output_type": "stream",
     "text": [
      "[1, 2, 3, 4, 5, 6, 7, 8, 9, 10]\n"
     ]
    }
   ],
   "source": [
    "lst=[i for i in range(1,11) ]\n",
    "print(lst)"
   ]
  }
 ],
 "metadata": {
  "kernelspec": {
   "display_name": "Python 3.10.5 64-bit",
   "language": "python",
   "name": "python3"
  },
  "language_info": {
   "codemirror_mode": {
    "name": "ipython",
    "version": 3
   },
   "file_extension": ".py",
   "mimetype": "text/x-python",
   "name": "python",
   "nbconvert_exporter": "python",
   "pygments_lexer": "ipython3",
   "version": "3.10.5"
  },
  "orig_nbformat": 4,
  "vscode": {
   "interpreter": {
    "hash": "26de051ba29f2982a8de78e945f0abaf191376122a1563185a90213a26c5da77"
   }
  }
 },
 "nbformat": 4,
 "nbformat_minor": 2
}
